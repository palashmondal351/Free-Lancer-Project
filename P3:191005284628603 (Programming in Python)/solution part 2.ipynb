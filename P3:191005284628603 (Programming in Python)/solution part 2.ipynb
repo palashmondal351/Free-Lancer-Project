{
 "cells": [
  {
   "cell_type": "markdown",
   "metadata": {},
   "source": [
    "Task 2\n",
    "This is a guess the number game"
   ]
  },
  {
   "cell_type": "code",
   "execution_count": 1,
   "metadata": {},
   "outputs": [
    {
     "name": "stdout",
     "output_type": "stream",
     "text": [
      "Welcome to my Guess the number program!\n",
      "Please guess a number between 1 and 10:a\n",
      "Numbers only!\n",
      "Please guess a number between 1 and 10:-3\n",
      "Please guess a number between 1 and 10:5\n",
      "Too high\n",
      "Please guess a number between 1 and 10:3\n",
      "Too high\n",
      "Please guess a number between 1 and 10:1\n",
      "You guessed it! It took you 2 attempts\n"
     ]
    }
   ],
   "source": [
    "#!/usr/bin/env python3\n",
    "# This is a guess the number game.\n",
    "import random # import the random module to generate the random number\n",
    "print('Welcome to my Guess the number program!') \n",
    "num=random.randint(1,10) # geneating the random number\n",
    "count=0 # counter initialization\n",
    "\n",
    "while True: #contineu the while loop untill it's become true. \n",
    "    try:\n",
    "        guss=int(input('Please guess a number between 1 and 10:')) # to check integer \n",
    "        if (guss>0 and guss<11): # to check user input range of the number\n",
    "            if(guss>num): # guss number is greater than actual\n",
    "                print('Too high')\n",
    "                count+=1\n",
    "            elif(guss<num): # guss number is smaller than actual\n",
    "                print('Too low')\n",
    "                count+=1\n",
    "            else: # guss number is equal with actual\n",
    "                print('You guessed it! It took you',count, 'attempts')\n",
    "                break # when number is found break the statement. \n",
    "        else: pass           \n",
    "    except: print('Numbers only!')"
   ]
  }
 ],
 "metadata": {
  "kernelspec": {
   "display_name": "Python 3",
   "language": "python",
   "name": "python3"
  },
  "language_info": {
   "codemirror_mode": {
    "name": "ipython",
    "version": 3
   },
   "file_extension": ".py",
   "mimetype": "text/x-python",
   "name": "python",
   "nbconvert_exporter": "python",
   "pygments_lexer": "ipython3",
   "version": "3.7.0"
  },
  "varInspector": {
   "cols": {
    "lenName": 16,
    "lenType": 16,
    "lenVar": 40
   },
   "kernels_config": {
    "python": {
     "delete_cmd_postfix": "",
     "delete_cmd_prefix": "del ",
     "library": "var_list.py",
     "varRefreshCmd": "print(var_dic_list())"
    },
    "r": {
     "delete_cmd_postfix": ") ",
     "delete_cmd_prefix": "rm(",
     "library": "var_list.r",
     "varRefreshCmd": "cat(var_dic_list()) "
    }
   },
   "types_to_exclude": [
    "module",
    "function",
    "builtin_function_or_method",
    "instance",
    "_Feature"
   ],
   "window_display": false
  }
 },
 "nbformat": 4,
 "nbformat_minor": 2
}
