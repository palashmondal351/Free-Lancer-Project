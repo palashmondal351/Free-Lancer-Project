{
 "cells": [
  {
   "cell_type": "markdown",
   "metadata": {},
   "source": [
    "Race Time Sorting in Python\n",
    " \n",
    "PROJECT PART: 1"
   ]
  },
  {
   "cell_type": "code",
   "execution_count": 1,
   "metadata": {},
   "outputs": [
    {
     "name": "stdout",
     "output_type": "stream",
     "text": [
      "---Input Chevy Times---\n",
      "Enter time for Chevy Car 1:5.4\n",
      "Enter time for Chevy Car 2:7.2\n",
      "Enter time for Chevy Car 3:4.0\n",
      "Enter time for Chevy Car 4:9.1\n",
      "Enter time for Chevy Car 5:5.8\n",
      "Enter time for Chevy Car 6:3.9\n",
      "Enter time for Chevy Car 7:6.2\n",
      "Enter time for Chevy Car 8:8.1\n",
      "---Input Ford Times---\n",
      "Enter time for Ford Car 1:5.8\n",
      "Enter time for Ford Car 2:6.9\n",
      "Enter time for Ford Car 3:3.9\n",
      "Enter time for Ford Car 4:9.2\n",
      "Enter time for Ford Car 5:5.8\n",
      "Enter time for Ford Car 6:3.8\n",
      "Enter time for Ford Car 7:6.0\n",
      "Enter time for Ford Car 8:8.5\n",
      "And the winners are:\n",
      "Chevy by 0.4 sec\n",
      "Ford by 0.3 sec\n",
      "Ford by 0.1 sec\n",
      "Chevy by 0.1 sec\n",
      "Tie!\n",
      "Ford by 0.1 sec\n",
      "Ford by 0.2 sec\n",
      "Chevy by 0.4 sec\n",
      "And the winning team is: F O R D !\n"
     ]
    }
   ],
   "source": [
    "## Race Time Sorting in Python: task 1\n",
    "def winner(Chevy, Ford): \n",
    "    if(len(Chevy)==8 and len(Ford)==8): # validation check for 8 input for both\n",
    "        print('And the winners are:')\n",
    "        c,f=0,0 # winning count initialization\n",
    "        \n",
    "        for j in range(8): # to check the winning for 8 iteration\n",
    "            \n",
    "            if(Chevy[j]>Ford[j]): # checking condition for Ford winning\n",
    "                print('Ford by',(Chevy[j]*10 - Ford[j]*10)/10,'sec' )\n",
    "                f+=1 # Ford winning count increment\n",
    "                \n",
    "            elif(Chevy[j]==Ford[j]): print('Tie!') # Tie Condition checking\n",
    "            \n",
    "            else: # checking condition for Chevy winning\n",
    "                print('Chevy by',(Ford[j]*10 - Chevy[j]*10) / 10,'sec' ) \n",
    "                c+=1\n",
    "                \n",
    "        if(c>f): print('And the winning team is: C H E V E !') # Chevy winning check\n",
    "        elif(c==f):print('Tie!') # Tie check\n",
    "        else: print('And the winning team is: F O R D !') # Ford winning check       \n",
    "    else: pass # return nothing just pass the condition. \n",
    "#-------------- Taking user input for 8 cars of Chevy and Ford--------------------   \n",
    "Chevy=[]; Ford=[]\n",
    "try:\n",
    "    print('---Input Chevy Times---')\n",
    "    # takes user input for 8 times\n",
    "    for i in range(1,8+1): Chevy.append(float(input('Enter time for Chevy Car %d:' %i)))\n",
    "    print('---Input Ford Times---')\n",
    "    for i in range(1,8+1): Ford.append(float(input('Enter time for Ford Car %d:' %i)))\n",
    "except: print('Invalid Input!!')\n",
    "winner(Chevy, Ford)  # call the function  \n",
    "\n"
   ]
  }
 ],
 "metadata": {
  "kernelspec": {
   "display_name": "Python 3",
   "language": "python",
   "name": "python3"
  },
  "language_info": {
   "codemirror_mode": {
    "name": "ipython",
    "version": 3
   },
   "file_extension": ".py",
   "mimetype": "text/x-python",
   "name": "python",
   "nbconvert_exporter": "python",
   "pygments_lexer": "ipython3",
   "version": "3.7.0"
  },
  "varInspector": {
   "cols": {
    "lenName": 16,
    "lenType": 16,
    "lenVar": 40
   },
   "kernels_config": {
    "python": {
     "delete_cmd_postfix": "",
     "delete_cmd_prefix": "del ",
     "library": "var_list.py",
     "varRefreshCmd": "print(var_dic_list())"
    },
    "r": {
     "delete_cmd_postfix": ") ",
     "delete_cmd_prefix": "rm(",
     "library": "var_list.r",
     "varRefreshCmd": "cat(var_dic_list()) "
    }
   },
   "types_to_exclude": [
    "module",
    "function",
    "builtin_function_or_method",
    "instance",
    "_Feature"
   ],
   "window_display": false
  }
 },
 "nbformat": 4,
 "nbformat_minor": 2
}
